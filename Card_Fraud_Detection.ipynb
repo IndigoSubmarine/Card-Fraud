{
  "cells": [
    {
      "cell_type": "markdown",
      "metadata": {
        "id": "v8SQ5VMFT1Jr"
      },
      "source": [
        "# ---------------------------------------------\n",
        "# LOAD LIBRARIES AND DATA"
      ]
    },
    {
      "cell_type": "code",
      "execution_count": null,
      "metadata": {
        "id": "pvMhubpbUFZm"
      },
      "outputs": [],
      "source": [
        "import pandas as pd\n",
        "import numpy as np\n",
        "import os\n",
        "from datetime import datetime\n",
        "import matplotlib.pyplot as plt\n",
        "import xgboost\n",
        "import sklearn.metrics\n",
        "from sklearn.metrics import roc_curve, roc_auc_score\n",
        "from sklearn.model_selection import cross_val_score\n",
        "from sklearn.impute import KNNImputer\n",
        "from sklearn.preprocessing import StandardScaler\n",
        "from sklearn.preprocessing import OrdinalEncoder\n",
        "from sklearn.feature_selection import RFECV\n",
        "from sklearn.model_selection import GridSearchCV\n",
        "from sklearn.model_selection import KFold\n",
        "from sklearn.model_selection import StratifiedKFold\n",
        "from sklearn.model_selection import train_test_split\n",
        "import lightgbm as lgb\n",
        "!pip install optuna\n",
        "import optuna\n",
        "import optuna.integration.lightgbm as lgbm\n",
        "from optuna.integration import LightGBMPruningCallback\n",
        "from lightgbm import early_stopping\n",
        "from lightgbm import log_evaluation\n",
        "import patsy\n",
        "import re\n",
        "import seaborn as sns\n",
        "from sklearn.feature_selection import SelectKBest, f_regression\n",
        "from imblearn.under_sampling import RandomUnderSampler\n",
        "from sklearn.tree import DecisionTreeClassifier\n",
        "from sklearn.metrics import accuracy_score,confusion_matrix, classification_report,f1_score, log_loss\n",
        "from sklearn.linear_model import LogisticRegression\n",
        "from sklearn.ensemble import RandomForestClassifier\n",
        "from sklearn.model_selection import RandomizedSearchCV\n"
      ]
    },
    {
      "cell_type": "code",
      "execution_count": null,
      "metadata": {
        "colab": {
          "base_uri": "https://localhost:8080/",
          "height": 73
        },
        "id": "T7cqUuG4UfHL",
        "outputId": "e3e3afb9-3ec4-4584-f033-c9a0dfb8701c"
      },
      "outputs": [
        {
          "output_type": "display_data",
          "data": {
            "text/plain": [
              "<IPython.core.display.HTML object>"
            ],
            "text/html": [
              "\n",
              "     <input type=\"file\" id=\"files-ceb14280-236b-49bd-821b-2394aa468803\" name=\"files[]\" multiple disabled\n",
              "        style=\"border:none\" />\n",
              "     <output id=\"result-ceb14280-236b-49bd-821b-2394aa468803\">\n",
              "      Upload widget is only available when the cell has been executed in the\n",
              "      current browser session. Please rerun this cell to enable.\n",
              "      </output>\n",
              "      <script>// Copyright 2017 Google LLC\n",
              "//\n",
              "// Licensed under the Apache License, Version 2.0 (the \"License\");\n",
              "// you may not use this file except in compliance with the License.\n",
              "// You may obtain a copy of the License at\n",
              "//\n",
              "//      http://www.apache.org/licenses/LICENSE-2.0\n",
              "//\n",
              "// Unless required by applicable law or agreed to in writing, software\n",
              "// distributed under the License is distributed on an \"AS IS\" BASIS,\n",
              "// WITHOUT WARRANTIES OR CONDITIONS OF ANY KIND, either express or implied.\n",
              "// See the License for the specific language governing permissions and\n",
              "// limitations under the License.\n",
              "\n",
              "/**\n",
              " * @fileoverview Helpers for google.colab Python module.\n",
              " */\n",
              "(function(scope) {\n",
              "function span(text, styleAttributes = {}) {\n",
              "  const element = document.createElement('span');\n",
              "  element.textContent = text;\n",
              "  for (const key of Object.keys(styleAttributes)) {\n",
              "    element.style[key] = styleAttributes[key];\n",
              "  }\n",
              "  return element;\n",
              "}\n",
              "\n",
              "// Max number of bytes which will be uploaded at a time.\n",
              "const MAX_PAYLOAD_SIZE = 100 * 1024;\n",
              "\n",
              "function _uploadFiles(inputId, outputId) {\n",
              "  const steps = uploadFilesStep(inputId, outputId);\n",
              "  const outputElement = document.getElementById(outputId);\n",
              "  // Cache steps on the outputElement to make it available for the next call\n",
              "  // to uploadFilesContinue from Python.\n",
              "  outputElement.steps = steps;\n",
              "\n",
              "  return _uploadFilesContinue(outputId);\n",
              "}\n",
              "\n",
              "// This is roughly an async generator (not supported in the browser yet),\n",
              "// where there are multiple asynchronous steps and the Python side is going\n",
              "// to poll for completion of each step.\n",
              "// This uses a Promise to block the python side on completion of each step,\n",
              "// then passes the result of the previous step as the input to the next step.\n",
              "function _uploadFilesContinue(outputId) {\n",
              "  const outputElement = document.getElementById(outputId);\n",
              "  const steps = outputElement.steps;\n",
              "\n",
              "  const next = steps.next(outputElement.lastPromiseValue);\n",
              "  return Promise.resolve(next.value.promise).then((value) => {\n",
              "    // Cache the last promise value to make it available to the next\n",
              "    // step of the generator.\n",
              "    outputElement.lastPromiseValue = value;\n",
              "    return next.value.response;\n",
              "  });\n",
              "}\n",
              "\n",
              "/**\n",
              " * Generator function which is called between each async step of the upload\n",
              " * process.\n",
              " * @param {string} inputId Element ID of the input file picker element.\n",
              " * @param {string} outputId Element ID of the output display.\n",
              " * @return {!Iterable<!Object>} Iterable of next steps.\n",
              " */\n",
              "function* uploadFilesStep(inputId, outputId) {\n",
              "  const inputElement = document.getElementById(inputId);\n",
              "  inputElement.disabled = false;\n",
              "\n",
              "  const outputElement = document.getElementById(outputId);\n",
              "  outputElement.innerHTML = '';\n",
              "\n",
              "  const pickedPromise = new Promise((resolve) => {\n",
              "    inputElement.addEventListener('change', (e) => {\n",
              "      resolve(e.target.files);\n",
              "    });\n",
              "  });\n",
              "\n",
              "  const cancel = document.createElement('button');\n",
              "  inputElement.parentElement.appendChild(cancel);\n",
              "  cancel.textContent = 'Cancel upload';\n",
              "  const cancelPromise = new Promise((resolve) => {\n",
              "    cancel.onclick = () => {\n",
              "      resolve(null);\n",
              "    };\n",
              "  });\n",
              "\n",
              "  // Wait for the user to pick the files.\n",
              "  const files = yield {\n",
              "    promise: Promise.race([pickedPromise, cancelPromise]),\n",
              "    response: {\n",
              "      action: 'starting',\n",
              "    }\n",
              "  };\n",
              "\n",
              "  cancel.remove();\n",
              "\n",
              "  // Disable the input element since further picks are not allowed.\n",
              "  inputElement.disabled = true;\n",
              "\n",
              "  if (!files) {\n",
              "    return {\n",
              "      response: {\n",
              "        action: 'complete',\n",
              "      }\n",
              "    };\n",
              "  }\n",
              "\n",
              "  for (const file of files) {\n",
              "    const li = document.createElement('li');\n",
              "    li.append(span(file.name, {fontWeight: 'bold'}));\n",
              "    li.append(span(\n",
              "        `(${file.type || 'n/a'}) - ${file.size} bytes, ` +\n",
              "        `last modified: ${\n",
              "            file.lastModifiedDate ? file.lastModifiedDate.toLocaleDateString() :\n",
              "                                    'n/a'} - `));\n",
              "    const percent = span('0% done');\n",
              "    li.appendChild(percent);\n",
              "\n",
              "    outputElement.appendChild(li);\n",
              "\n",
              "    const fileDataPromise = new Promise((resolve) => {\n",
              "      const reader = new FileReader();\n",
              "      reader.onload = (e) => {\n",
              "        resolve(e.target.result);\n",
              "      };\n",
              "      reader.readAsArrayBuffer(file);\n",
              "    });\n",
              "    // Wait for the data to be ready.\n",
              "    let fileData = yield {\n",
              "      promise: fileDataPromise,\n",
              "      response: {\n",
              "        action: 'continue',\n",
              "      }\n",
              "    };\n",
              "\n",
              "    // Use a chunked sending to avoid message size limits. See b/62115660.\n",
              "    let position = 0;\n",
              "    do {\n",
              "      const length = Math.min(fileData.byteLength - position, MAX_PAYLOAD_SIZE);\n",
              "      const chunk = new Uint8Array(fileData, position, length);\n",
              "      position += length;\n",
              "\n",
              "      const base64 = btoa(String.fromCharCode.apply(null, chunk));\n",
              "      yield {\n",
              "        response: {\n",
              "          action: 'append',\n",
              "          file: file.name,\n",
              "          data: base64,\n",
              "        },\n",
              "      };\n",
              "\n",
              "      let percentDone = fileData.byteLength === 0 ?\n",
              "          100 :\n",
              "          Math.round((position / fileData.byteLength) * 100);\n",
              "      percent.textContent = `${percentDone}% done`;\n",
              "\n",
              "    } while (position < fileData.byteLength);\n",
              "  }\n",
              "\n",
              "  // All done.\n",
              "  yield {\n",
              "    response: {\n",
              "      action: 'complete',\n",
              "    }\n",
              "  };\n",
              "}\n",
              "\n",
              "scope.google = scope.google || {};\n",
              "scope.google.colab = scope.google.colab || {};\n",
              "scope.google.colab._files = {\n",
              "  _uploadFiles,\n",
              "  _uploadFilesContinue,\n",
              "};\n",
              "})(self);\n",
              "</script> "
            ]
          },
          "metadata": {}
        },
        {
          "output_type": "stream",
          "name": "stdout",
          "text": [
            "Saving card_transdata.csv to card_transdata.csv\n"
          ]
        }
      ],
      "source": [
        "# Load data\n",
        "from google.colab import files\n",
        "uploaded = files.upload()"
      ]
    },
    {
      "cell_type": "code",
      "execution_count": null,
      "metadata": {
        "id": "wnaxZLrcWXeB"
      },
      "outputs": [],
      "source": [
        "df = pd.read_csv('card_transdata.csv')"
      ]
    },
    {
      "cell_type": "code",
      "execution_count": null,
      "metadata": {
        "colab": {
          "base_uri": "https://localhost:8080/",
          "height": 646
        },
        "id": "UVczinIgWkza",
        "outputId": "8f32e248-0730-4ed1-c0a9-92af87c9d059"
      },
      "outputs": [
        {
          "data": {
            "image/png": "[encoded data removed]",
            "text/plain": [
              "<Figure size 640x480 with 2 Axes>"
            ]
          },
          "metadata": {},
          "output_type": "display_data"
        }
      ],
      "source": [
        "# Check correlation\n",
        "numeric_cols = list(df.select_dtypes('number').columns.values)\n",
        "correlation  = df[numeric_cols].corr()\n",
        "\n",
        "sns.heatmap(correlation);"
      ]
    },
    {
      "cell_type": "code",
      "execution_count": null,
      "metadata": {
        "colab": {
          "base_uri": "https://localhost:8080/",
          "height": 300
        },
        "id": "dLsAbW5HA4W8",
        "outputId": "0147d456-f60f-4169-d778-01a80479d0cb"
      },
      "outputs": [
        {
          "data": {
            "text/html": [
              "\n",
              "  <div id=\"df-60736c6f-e709-43f8-be06-a1d455907ea8\">\n",
              "    <div class=\"colab-df-container\">\n",
              "      <div>\n",
              "<style scoped>\n",
              "    .dataframe tbody tr th:only-of-type {\n",
              "        vertical-align: middle;\n",
              "    }\n",
              "\n",
              "    .dataframe tbody tr th {\n",
              "        vertical-align: top;\n",
              "    }\n",
              "\n",
              "    .dataframe thead th {\n",
              "        text-align: right;\n",
              "    }\n",
              "</style>\n",
              "<table border=\"1\" class=\"dataframe\">\n",
              "  <thead>\n",
              "    <tr style=\"text-align: right;\">\n",
              "      <th></th>\n",
              "      <th>Score</th>\n",
              "    </tr>\n",
              "    <tr>\n",
              "      <th>Specs</th>\n",
              "      <th></th>\n",
              "    </tr>\n",
              "  </thead>\n",
              "  <tbody>\n",
              "    <tr>\n",
              "      <th>ratio_to_median_purchase_price</th>\n",
              "      <td>271820.173833</td>\n",
              "    </tr>\n",
              "    <tr>\n",
              "      <th>online_order</th>\n",
              "      <td>38263.518281</td>\n",
              "    </tr>\n",
              "    <tr>\n",
              "      <th>distance_from_home</th>\n",
              "      <td>36465.693326</td>\n",
              "    </tr>\n",
              "    <tr>\n",
              "      <th>used_pin_number</th>\n",
              "      <td>10160.776030</td>\n",
              "    </tr>\n",
              "    <tr>\n",
              "      <th>distance_from_last_transaction</th>\n",
              "      <td>8520.690791</td>\n",
              "    </tr>\n",
              "    <tr>\n",
              "      <th>used_chip</th>\n",
              "      <td>3731.768465</td>\n",
              "    </tr>\n",
              "    <tr>\n",
              "      <th>repeat_retailer</th>\n",
              "      <td>1.842670</td>\n",
              "    </tr>\n",
              "  </tbody>\n",
              "</table>\n",
              "</div>\n",
              "      <button class=\"colab-df-convert\" onclick=\"convertToInteractive('df-60736c6f-e709-43f8-be06-a1d455907ea8')\"\n",
              "              title=\"Convert this dataframe to an interactive table.\"\n",
              "              style=\"display:none;\">\n",
              "        \n",
              "  <svg xmlns=\"http://www.w3.org/2000/svg\" height=\"24px\"viewBox=\"0 0 24 24\"\n",
              "       width=\"24px\">\n",
              "    <path d=\"M0 0h24v24H0V0z\" fill=\"none\"/>\n",
              "    <path d=\"M18.56 5.44l.94 2.06.94-2.06 2.06-.94-2.06-.94-.94-2.06-.94 2.06-2.06.94zm-11 1L8.5 8.5l.94-2.06 2.06-.94-2.06-.94L8.5 2.5l-.94 2.06-2.06.94zm10 10l.94 2.06.94-2.06 2.06-.94-2.06-.94-.94-2.06-.94 2.06-2.06.94z\"/><path d=\"M17.41 7.96l-1.37-1.37c-.4-.4-.92-.59-1.43-.59-.52 0-1.04.2-1.43.59L10.3 9.45l-7.72 7.72c-.78.78-.78 2.05 0 2.83L4 21.41c.39.39.9.59 1.41.59.51 0 1.02-.2 1.41-.59l7.78-7.78 2.81-2.81c.8-.78.8-2.07 0-2.86zM5.41 20L4 18.59l7.72-7.72 1.47 1.35L5.41 20z\"/>\n",
              "  </svg>\n",
              "      </button>\n",
              "      \n",
              "  <style>\n",
              "    .colab-df-container {\n",
              "      display:flex;\n",
              "      flex-wrap:wrap;\n",
              "      gap: 12px;\n",
              "    }\n",
              "\n",
              "    .colab-df-convert {\n",
              "      background-color: #E8F0FE;\n",
              "      border: none;\n",
              "      border-radius: 50%;\n",
              "      cursor: pointer;\n",
              "      display: none;\n",
              "      fill: #1967D2;\n",
              "      height: 32px;\n",
              "      padding: 0 0 0 0;\n",
              "      width: 32px;\n",
              "    }\n",
              "\n",
              "    .colab-df-convert:hover {\n",
              "      background-color: #E2EBFA;\n",
              "      box-shadow: 0px 1px 2px rgba(60, 64, 67, 0.3), 0px 1px 3px 1px rgba(60, 64, 67, 0.15);\n",
              "      fill: #174EA6;\n",
              "    }\n",
              "\n",
              "    [theme=dark] .colab-df-convert {\n",
              "      background-color: #3B4455;\n",
              "      fill: #D2E3FC;\n",
              "    }\n",
              "\n",
              "    [theme=dark] .colab-df-convert:hover {\n",
              "      background-color: #434B5C;\n",
              "      box-shadow: 0px 1px 3px 1px rgba(0, 0, 0, 0.15);\n",
              "      filter: drop-shadow(0px 1px 2px rgba(0, 0, 0, 0.3));\n",
              "      fill: #FFFFFF;\n",
              "    }\n",
              "  </style>\n",
              "\n",
              "      <script>\n",
              "        const buttonEl =\n",
              "          document.querySelector('#df-60736c6f-e709-43f8-be06-a1d455907ea8 button.colab-df-convert');\n",
              "        buttonEl.style.display =\n",
              "          google.colab.kernel.accessAllowed ? 'block' : 'none';\n",
              "\n",
              "        async function convertToInteractive(key) {\n",
              "          const element = document.querySelector('#df-60736c6f-e709-43f8-be06-a1d455907ea8');\n",
              "          const dataTable =\n",
              "            await google.colab.kernel.invokeFunction('convertToInteractive',\n",
              "                                                     [key], {});\n",
              "          if (!dataTable) return;\n",
              "\n",
              "          const docLinkHtml = 'Like what you see? Visit the ' +\n",
              "            '<a target=\"_blank\" href=https://colab.research.google.com/notebooks/data_table.ipynb>data table notebook</a>'\n",
              "            + ' to learn more about interactive tables.';\n",
              "          element.innerHTML = '';\n",
              "          dataTable['output_type'] = 'display_data';\n",
              "          await google.colab.output.renderOutput(dataTable, element);\n",
              "          const docLink = document.createElement('div');\n",
              "          docLink.innerHTML = docLinkHtml;\n",
              "          element.appendChild(docLink);\n",
              "        }\n",
              "      </script>\n",
              "    </div>\n",
              "  </div>\n",
              "  "
            ],
            "text/plain": [
              "                                        Score\n",
              "Specs                                        \n",
              "ratio_to_median_purchase_price  271820.173833\n",
              "online_order                     38263.518281\n",
              "distance_from_home               36465.693326\n",
              "used_pin_number                  10160.776030\n",
              "distance_from_last_transaction    8520.690791\n",
              "used_chip                         3731.768465\n",
              "repeat_retailer                      1.842670"
            ]
          },
          "execution_count": 77,
          "metadata": {},
          "output_type": "execute_result"
        }
      ],
      "source": [
        "# Check feature importance\n",
        "Y = df.loc[:,'fraud']\n",
        "X = df.loc[:, df.columns != 'fraud']\n",
        "bestfeatures = SelectKBest(k=5, score_func=f_regression)\n",
        "fit = bestfeatures.fit(X,Y)\n",
        "dfscores = pd.DataFrame(fit.scores_)\n",
        "dfcolumns = pd.DataFrame(X.columns)\n",
        "\n",
        "# Print best features\n",
        "featureScores = pd.concat([dfcolumns,dfscores],axis=1)\n",
        "featureScores.columns = ['Specs','Score']\n",
        "featureScores.nlargest(7,'Score').set_index('Specs')"
      ]
    },
    {
      "cell_type": "code",
      "execution_count": null,
      "metadata": {
        "id": "0nLtpWazVMdN"
      },
      "outputs": [],
      "source": [
        "# Check NAs\n",
        "df.info()\n",
        "print(df.isna().sum())"
      ]
    },
    {
      "cell_type": "code",
      "execution_count": null,
      "metadata": {
        "colab": {
          "base_uri": "https://localhost:8080/"
        },
        "id": "D63hnfRDVzdS",
        "outputId": "f176b6ef-1dae-45c0-9279-35541d7c4d0f"
      },
      "outputs": [
        {
          "name": "stdout",
          "output_type": "stream",
          "text": [
            "fraud\n",
            "0.0    912597\n",
            "1.0     87403\n",
            "dtype: int64\n"
          ]
        }
      ],
      "source": [
        "# Get the count of rows for each fraud type\n",
        "rows_count = df.groupby('fraud').apply(len)\n",
        "print(rows_count)"
      ]
    },
    {
      "cell_type": "code",
      "execution_count": null,
      "metadata": {
        "id": "jAVNX0GBV0PA"
      },
      "outputs": [],
      "source": [
        "# Split the data into Training/testing sets\n",
        "X = df.drop('fraud', axis=1)\n",
        "y = df['fraud']\n",
        "\n",
        "X_train, X_test, y_train, y_test = train_test_split(X, y, test_size=0.15, random_state=42)"
      ]
    },
    {
      "cell_type": "markdown",
      "metadata": {
        "id": "E8ua3e4FklHp"
      },
      "source": [
        "# -------------------------------------\n",
        "# SCALE NUMERIC FEATURES"
      ]
    },
    {
      "cell_type": "code",
      "execution_count": null,
      "metadata": {
        "id": "OVRIHukuVpwx"
      },
      "outputs": [],
      "source": [
        "# Setup scaler\n",
        "scaler = StandardScaler()\n",
        "\n",
        "# (with base model, scaling only improved performance marginally)\n",
        "X_train_scale = pd.DataFrame(scaler.fit_transform(X_train),columns=X_train.columns)\n",
        "X_test_scale = pd.DataFrame(scaler.fit_transform(X_test),columns=X_test.columns)"
      ]
    },
    {
      "cell_type": "markdown",
      "metadata": {
        "id": "7BHHkJGPbTO5"
      },
      "source": [
        "# ---------------------------------------------\n",
        "# MODEL BUILDING"
      ]
    },
    {
      "cell_type": "code",
      "execution_count": null,
      "metadata": {
        "colab": {
          "base_uri": "https://localhost:8080/"
        },
        "id": "QvCqCaJObzoy",
        "outputId": "7aa50feb-7ff3-4c25-fed5-b3005534fb66"
      },
      "outputs": [
        {
          "output_type": "stream",
          "name": "stdout",
          "text": [
            "Undersampled training set class distribution: [74350 74350]\n"
          ]
        }
      ],
      "source": [
        "# Undersampling (i.e. taking fewer non-fraudulent transactions)\n",
        "rus = RandomUnderSampler(random_state=0)\n",
        "X_train_scale_und, y_train_und = rus.fit_resample(X_train_scale, y_train)\n",
        "print('Undersampled training set class distribution:', np.bincount(y_train_und))"
      ]
    },
    {
      "cell_type": "markdown",
      "metadata": {
        "id": "n2OdlRURZcEq"
      },
      "source": [
        "Decision Tree"
      ]
    },
    {
      "cell_type": "code",
      "execution_count": null,
      "metadata": {
        "colab": {
          "base_uri": "https://localhost:8080/"
        },
        "id": "wycu4SpDc9wl",
        "outputId": "ee694594-28c4-44f6-9f21-1ae865a575f6"
      },
      "outputs": [
        {
          "name": "stdout",
          "output_type": "stream",
          "text": [
            "              precision    recall  f1-score   support\n",
            "\n",
            "         0.0       1.00      1.00      1.00    136947\n",
            "         1.0       0.98      0.98      0.98     13053\n",
            "\n",
            "    accuracy                           1.00    150000\n",
            "   macro avg       0.99      0.99      0.99    150000\n",
            "weighted avg       1.00      1.00      1.00    150000\n",
            "\n",
            "[[136725    222]\n",
            " [   320  12733]]\n",
            "Accuracy = 1.00\n",
            "F1 Score = 0.98\n",
            "Log Loss = 0.13\n"
          ]
        }
      ],
      "source": [
        "# Create base line decision tree model\n",
        "clf = DecisionTreeClassifier(random_state=0, criterion=\"entropy\" )\n",
        "clf.fit(X_train_scale_und, y_train_und)\n",
        "\n",
        "# Check performance\n",
        "y_pred_clf = clf.predict(X_test_scale)\n",
        "print(classification_report(y_test, y_pred_clf))\n",
        "print(confusion_matrix(y_test, y_pred_clf))\n",
        "print(\"Accuracy = {:.2f}\".format(accuracy_score(y_test, y_pred_clf)))\n",
        "print(\"F1 Score = {:.2f}\".format(f1_score(y_test, y_pred_clf)))\n",
        "print(\"Log Loss = {:.2f}\".format(log_loss(y_test, y_pred_clf)))"
      ]
    },
    {
      "cell_type": "markdown",
      "metadata": {
        "id": "DAhNdAXIZfHO"
      },
      "source": [
        "Logistic Regression"
      ]
    },
    {
      "cell_type": "code",
      "execution_count": null,
      "metadata": {
        "colab": {
          "base_uri": "https://localhost:8080/"
        },
        "id": "-ELOs0SbexNX",
        "outputId": "dbf875d5-b739-4b70-adba-fc2ba08b909f"
      },
      "outputs": [
        {
          "name": "stdout",
          "output_type": "stream",
          "text": [
            "              precision    recall  f1-score   support\n",
            "\n",
            "         0.0       1.00      0.93      0.96    136947\n",
            "         1.0       0.58      0.95      0.72     13053\n",
            "\n",
            "    accuracy                           0.94    150000\n",
            "   macro avg       0.79      0.94      0.84    150000\n",
            "weighted avg       0.96      0.94      0.94    150000\n",
            "\n",
            "[[127899   9048]\n",
            " [   637  12416]]\n",
            "Accuracy = 0.94\n",
            "F1 Score = 0.72\n",
            "Log Loss = 2.33\n"
          ]
        }
      ],
      "source": [
        "lr = LogisticRegression(random_state=0)\n",
        "lr.fit(X_train_scale_und, y_train_und)\n",
        "\n",
        "# Check performance\n",
        "y_pred_lr = lr.predict(X_test_scale)\n",
        "print(classification_report(y_test, y_pred_lr))\n",
        "print(confusion_matrix(y_test, y_pred_lr))\n",
        "print(\"Accuracy = {:.2f}\".format(accuracy_score(y_test, y_pred_lr)))\n",
        "print(\"F1 Score = {:.2f}\".format(f1_score(y_test, y_pred_lr)))\n",
        "print(\"Log Loss = {:.2f}\".format(log_loss(y_test, y_pred_lr)))"
      ]
    },
    {
      "cell_type": "markdown",
      "metadata": {
        "id": "W7_Qqa5JZh2z"
      },
      "source": [
        "Random Forest"
      ]
    },
    {
      "cell_type": "code",
      "execution_count": null,
      "metadata": {
        "colab": {
          "base_uri": "https://localhost:8080/"
        },
        "id": "sS67eVG9Ykg9",
        "outputId": "3dcbc46c-1355-41b8-bc0c-43b142f90c93"
      },
      "outputs": [
        {
          "output_type": "stream",
          "name": "stdout",
          "text": [
            "              precision    recall  f1-score   support\n",
            "\n",
            "         0.0       1.00      1.00      1.00    136947\n",
            "         1.0       0.98      0.98      0.98     13053\n",
            "\n",
            "    accuracy                           1.00    150000\n",
            "   macro avg       0.99      0.99      0.99    150000\n",
            "weighted avg       1.00      1.00      1.00    150000\n",
            "\n",
            "Confusion Matrix : \n",
            " [[136723    224]\n",
            " [   300  12753]]\n",
            "Accuracy = 1.00\n",
            "F1 Score = 0.98\n",
            "Log Loss = 0.13\n",
            "specificity = {:.2f} 0.9983643307264854\n",
            "sensitivity = {:.2f} 0.9770167777522408\n"
          ]
        }
      ],
      "source": [
        "rf = RandomForestClassifier(random_state=0)\n",
        "rf.fit(X_train_scale_und, y_train_und)\n",
        "\n",
        "# Check performance\n",
        "y_pred_rf = rf.predict(X_test_scale)\n",
        "print(classification_report(y_test, y_pred_rf))\n",
        "print('Confusion Matrix : \\n', confusion_matrix(y_test, y_pred_rf))\n",
        "print(\"Accuracy = {:.2f}\".format(accuracy_score(y_test, y_pred_rf)))\n",
        "print(\"F1 Score = {:.2f}\".format(f1_score(y_test, y_pred_rf)))\n",
        "print(\"Log Loss = {:.2f}\".format(log_loss(y_test, y_pred_rf)))\n",
        "\n",
        "tn, fp, fn, tp = confusion_matrix(y_test, y_pred_rf).ravel()\n",
        "specificity = tn / (tn+fp)\n",
        "print('specificity = {:.2f}', specificity)\n",
        "sensitivity = tp / (tp+fn)\n",
        "print('sensitivity = {:.2f}', sensitivity)"
      ]
    },
    {
      "cell_type": "code",
      "execution_count": null,
      "metadata": {
        "colab": {
          "base_uri": "https://localhost:8080/"
        },
        "id": "DvpmgUG5ZTQE",
        "outputId": "3bfb3495-a2e5-4a2b-fd3e-465bef46de10"
      },
      "outputs": [
        {
          "output_type": "stream",
          "name": "stdout",
          "text": [
            "RandomForestClassifier(max_depth=5, max_leaf_nodes=9, n_estimators=50,\n",
            "                       random_state=0)\n"
          ]
        }
      ],
      "source": [
        "# Grid search on best parameter\n",
        "grid = {'n_estimators': [50,100,150], 'max_depth': [1,3,5], 'max_features': ['sqrt', 'log2', None], 'max_leaf_nodes': [3, 6, 9],  'random_state': [0]}\n",
        "grid_search = GridSearchCV(RandomForestClassifier(),\n",
        "                           param_grid=grid, cv=10)\n",
        "grid_search.fit(X_train_scale_und, y_train_und)\n",
        "print(grid_search.best_estimator_)\n"
      ]
    },
    {
      "cell_type": "code",
      "execution_count": null,
      "metadata": {
        "id": "cy5nyUunbnu1",
        "colab": {
          "base_uri": "https://localhost:8080/"
        },
        "outputId": "15fd81eb-104a-40c7-8c43-31b03f66f552"
      },
      "outputs": [
        {
          "output_type": "stream",
          "name": "stdout",
          "text": [
            "              precision    recall  f1-score   support\n",
            "\n",
            "         0.0       1.00      0.98      0.99    136947\n",
            "         1.0       0.86      0.98      0.91     13053\n",
            "\n",
            "    accuracy                           0.98    150000\n",
            "   macro avg       0.93      0.98      0.95    150000\n",
            "weighted avg       0.99      0.98      0.98    150000\n",
            "\n",
            "[[134798   2149]\n",
            " [   286  12767]]\n",
            "Accuracy = 0.98\n",
            "F1 Score = 0.91\n",
            "Log Loss = 0.59\n"
          ]
        }
      ],
      "source": [
        "# Create best tuned model\n",
        "rf = RandomForestClassifier(n_estimators=50, max_depth=5,  max_leaf_nodes=9,random_state=0)\n",
        "rf.fit(X_train_scale_und, y_train_und)\n",
        "y_pred_rf = rf.predict(X_test_scale)\n",
        "print(classification_report(y_test, y_pred_rf))\n",
        "print(confusion_matrix(y_test, y_pred_rf))\n",
        "print(\"Accuracy = {:.2f}\".format(accuracy_score(y_test, y_pred_rf)))\n",
        "print(\"F1 Score = {:.2f}\".format(f1_score(y_test, y_pred_rf)))\n",
        "print(\"Log Loss = {:.2f}\".format(log_loss(y_test, y_pred_rf)))"
      ]
    },
    {
      "cell_type": "code",
      "execution_count": null,
      "metadata": {
        "id": "IEx2CI72AsB_",
        "colab": {
          "base_uri": "https://localhost:8080/"
        },
        "outputId": "1252fd97-f700-49fd-caf7-c58add3e228d"
      },
      "outputs": [
        {
          "output_type": "stream",
          "name": "stdout",
          "text": [
            "RandomForestClassifier(max_depth=3, max_leaf_nodes=3, n_estimators=150,\n",
            "                       random_state=0)\n"
          ]
        }
      ],
      "source": [
        "# Random search on best parameter\n",
        "random_search = RandomizedSearchCV(RandomForestClassifier(), param_distributions = grid, cv = 10)\n",
        "random_search.fit(X_train_scale_und, y_train_und)\n",
        "print(random_search.best_estimator_)\n"
      ]
    },
    {
      "cell_type": "code",
      "source": [
        "# Create best tuned model\n",
        "rf = RandomForestClassifier(n_estimators=150, max_depth=3,  max_leaf_nodes=3,random_state=0)\n",
        "rf.fit(X_train_scale_und, y_train_und)\n",
        "y_pred_rf = rf.predict(X_test_scale)\n",
        "print(classification_report(y_test, y_pred_rf))\n",
        "print(confusion_matrix(y_test, y_pred_rf))\n",
        "print(\"Accuracy = {:.2f}\".format(accuracy_score(y_test, y_pred_rf)))\n",
        "print(\"F1 Score = {:.2f}\".format(f1_score(y_test, y_pred_rf)))\n",
        "print(\"Log Loss = {:.2f}\".format(log_loss(y_test, y_pred_rf)))"
      ],
      "metadata": {
        "colab": {
          "base_uri": "https://localhost:8080/"
        },
        "id": "_QZNsVWo-Oyv",
        "outputId": "e174b742-fb14-4577-cd5e-fb41067d7d2c"
      },
      "execution_count": null,
      "outputs": [
        {
          "output_type": "stream",
          "name": "stdout",
          "text": [
            "              precision    recall  f1-score   support\n",
            "\n",
            "         0.0       1.00      0.95      0.97    136947\n",
            "         1.0       0.64      0.98      0.78     13053\n",
            "\n",
            "    accuracy                           0.95    150000\n",
            "   macro avg       0.82      0.96      0.87    150000\n",
            "weighted avg       0.97      0.95      0.96    150000\n",
            "\n",
            "[[129877   7070]\n",
            " [   270  12783]]\n",
            "Accuracy = 0.95\n",
            "F1 Score = 0.78\n",
            "Log Loss = 1.76\n"
          ]
        }
      ]
    },
    {
      "cell_type": "markdown",
      "metadata": {
        "id": "mXsSttr4Zkgs"
      },
      "source": [
        "XGBoost"
      ]
    },
    {
      "cell_type": "code",
      "execution_count": null,
      "metadata": {
        "colab": {
          "base_uri": "https://localhost:8080/"
        },
        "id": "TbKfMPxmfML-",
        "outputId": "6b12d6b0-2830-4dd9-ab7d-ca101ca0cb86"
      },
      "outputs": [
        {
          "name": "stderr",
          "output_type": "stream",
          "text": [
            "/usr/local/lib/python3.10/dist-packages/xgboost/sklearn.py:1395: UserWarning: `use_label_encoder` is deprecated in 1.7.0.\n",
            "  warnings.warn(\"`use_label_encoder` is deprecated in 1.7.0.\")\n",
            "/usr/local/lib/python3.10/dist-packages/xgboost/sklearn.py:1395: UserWarning: `use_label_encoder` is deprecated in 1.7.0.\n",
            "  warnings.warn(\"`use_label_encoder` is deprecated in 1.7.0.\")\n",
            "/usr/local/lib/python3.10/dist-packages/xgboost/sklearn.py:1395: UserWarning: `use_label_encoder` is deprecated in 1.7.0.\n",
            "  warnings.warn(\"`use_label_encoder` is deprecated in 1.7.0.\")\n",
            "/usr/local/lib/python3.10/dist-packages/xgboost/sklearn.py:1395: UserWarning: `use_label_encoder` is deprecated in 1.7.0.\n",
            "  warnings.warn(\"`use_label_encoder` is deprecated in 1.7.0.\")\n",
            "/usr/local/lib/python3.10/dist-packages/xgboost/sklearn.py:1395: UserWarning: `use_label_encoder` is deprecated in 1.7.0.\n",
            "  warnings.warn(\"`use_label_encoder` is deprecated in 1.7.0.\")\n",
            "/usr/local/lib/python3.10/dist-packages/xgboost/sklearn.py:1395: UserWarning: `use_label_encoder` is deprecated in 1.7.0.\n",
            "  warnings.warn(\"`use_label_encoder` is deprecated in 1.7.0.\")\n"
          ]
        },
        {
          "name": "stdout",
          "output_type": "stream",
          "text": [
            "\n",
            "Model, K= 15 CV, ROC AUC: 1.000 +/- 0.00\n",
            "              precision    recall  f1-score   support\n",
            "\n",
            "         0.0       1.00      1.00      1.00    136947\n",
            "         1.0       0.98      0.96      0.97     13053\n",
            "\n",
            "    accuracy                           0.99    150000\n",
            "   macro avg       0.99      0.98      0.98    150000\n",
            "weighted avg       0.99      0.99      0.99    150000\n",
            "\n",
            "[[136722    225]\n",
            " [   533  12520]]\n",
            "Accuracy = 0.99\n",
            "F1 Score = 0.97\n",
            "Log Loss = 0.18\n"
          ]
        }
      ],
      "source": [
        "xgclassifier = xgboost.XGBClassifier(use_label_encoder=False,eval_metric=\"auc\",seed=0)\n",
        "\n",
        "# Cross validate using auc as our metric and print out average of all folds\n",
        "cv_scores = cross_val_score(xgclassifier, X_train_scale_und, y_train_und, cv=5, scoring='roc_auc')\n",
        "print(\"\\nModel, K={:3d} CV, ROC AUC: {:0.3f} +/- {:0.2f}\".format(15, np.mean(cv_scores), np.std(cv_scores)))\n",
        "\n",
        "# Now fit xgboost classifier and predict\n",
        "xgclassifier.fit(X_train_scale_und, y_train_und)\n",
        "y_pred_xgb = xgclassifier.predict(X_test_scale)\n",
        "\n",
        "print(classification_report(y_test, y_pred_xgb))\n",
        "print(confusion_matrix(y_test, y_pred_xgb))\n",
        "print(\"Accuracy = {:.2f}\".format(accuracy_score(y_test, y_pred_xgb)))\n",
        "print(\"F1 Score = {:.2f}\".format(f1_score(y_test, y_pred_xgb)))\n",
        "print(\"Log Loss = {:.2f}\".format(log_loss(y_test, y_pred_xgb)))"
      ]
    },
    {
      "cell_type": "markdown",
      "metadata": {
        "id": "P99AkigDZm0y"
      },
      "source": [
        "XGBoost with Optuna"
      ]
    },
    {
      "cell_type": "code",
      "execution_count": null,
      "metadata": {
        "colab": {
          "base_uri": "https://localhost:8080/"
        },
        "id": "X0PFgiIulOHM",
        "outputId": "51115800-9931-41ed-cd2a-d10e99d24455"
      },
      "outputs": [
        {
          "name": "stderr",
          "output_type": "stream",
          "text": [
            "[I 2023-06-13 21:23:55,401] A new study created in memory with name: no-name-024b1c9e-e4d5-47a4-a0e5-7a5a6ae388be\n",
            "[I 2023-06-13 21:30:20,160] Trial 0 finished with value: 0.9999995667450113 and parameters: {'lambda': 4.720192222642106e-08, 'alpha': 0.0007314265084022067, 'subsample': 0.31357887750497904, 'colsample_bytree': 0.9340427154351825, 'max_depth': 11, 'min_child_weight': 3, 'eta': 3.705362537555073e-08, 'gamma': 6.715718334720067e-07, 'scale_pos_weight': 1, 'grow_policy': 'lossguide'}. Best is trial 0 with value: 0.9999995667450113.\n",
            "[I 2023-06-13 21:33:26,540] Trial 1 finished with value: 0.9999998154822178 and parameters: {'lambda': 3.5502916148574965e-05, 'alpha': 0.0009003319139426627, 'subsample': 0.46975781637159164, 'colsample_bytree': 0.8255503762677774, 'max_depth': 13, 'min_child_weight': 6, 'eta': 0.001957882048975051, 'gamma': 3.6878241671905844e-05, 'scale_pos_weight': 6, 'grow_policy': 'lossguide'}. Best is trial 1 with value: 0.9999998154822178.\n",
            "[I 2023-06-13 21:35:56,307] Trial 2 finished with value: 0.9999992040409396 and parameters: {'lambda': 1.821063597387854e-07, 'alpha': 0.00016423914772234707, 'subsample': 0.3394533034335101, 'colsample_bytree': 0.8277772453544685, 'max_depth': 13, 'min_child_weight': 12, 'eta': 0.0028184794242789623, 'gamma': 1.580082254510287e-05, 'scale_pos_weight': 5, 'grow_policy': 'lossguide'}. Best is trial 1 with value: 0.9999998154822178.\n",
            "[I 2023-06-13 21:38:11,733] Trial 3 finished with value: 0.999938405431697 and parameters: {'lambda': 1.5799775850133125e-07, 'alpha': 1.0490222993903313e-07, 'subsample': 0.70272338402363, 'colsample_bytree': 0.32445398071416665, 'max_depth': 3, 'min_child_weight': 1, 'eta': 0.010536081104047747, 'gamma': 4.954362908673202e-05, 'scale_pos_weight': 5, 'grow_policy': 'depthwise'}. Best is trial 1 with value: 0.9999998154822178.\n",
            "[I 2023-06-13 21:39:07,664] Trial 4 finished with value: 0.9999998950781238 and parameters: {'lambda': 0.00846812063016269, 'alpha': 4.668634024253215e-07, 'subsample': 0.7229607425424986, 'colsample_bytree': 0.7849689571568703, 'max_depth': 10, 'min_child_weight': 8, 'eta': 0.6530179519756365, 'gamma': 0.0007989824456073596, 'scale_pos_weight': 2, 'grow_policy': 'lossguide'}. Best is trial 4 with value: 0.9999998950781238.\n",
            "[I 2023-06-13 21:43:40,951] Trial 5 finished with value: 0.9999956855400922 and parameters: {'lambda': 4.1590873216286476e-05, 'alpha': 0.001395980915737051, 'subsample': 0.3511676577241444, 'colsample_bytree': 0.6465597901960936, 'max_depth': 12, 'min_child_weight': 10, 'eta': 3.018907548569625e-08, 'gamma': 3.897067392205244e-06, 'scale_pos_weight': 3, 'grow_policy': 'lossguide'}. Best is trial 4 with value: 0.9999998950781238.\n",
            "[I 2023-06-13 21:44:08,404] Trial 6 finished with value: 0.9157462514172368 and parameters: {'lambda': 0.0020129723342873712, 'alpha': 0.0008793793405337887, 'subsample': 0.39081614817268717, 'colsample_bytree': 0.7687082986500242, 'max_depth': 1, 'min_child_weight': 11, 'eta': 1.4829262603289993e-07, 'gamma': 1.4734401274744519e-08, 'scale_pos_weight': 4, 'grow_policy': 'depthwise'}. Best is trial 4 with value: 0.9999998950781238.\n",
            "[I 2023-06-13 21:50:32,679] Trial 7 finished with value: 0.9999222691707418 and parameters: {'lambda': 1.5820097577679453e-07, 'alpha': 9.582503673177317e-05, 'subsample': 0.9623519387818442, 'colsample_bytree': 0.5431278735910661, 'max_depth': 10, 'min_child_weight': 0, 'eta': 0.00014591451523858351, 'gamma': 0.019866620953274284, 'scale_pos_weight': 2, 'grow_policy': 'lossguide'}. Best is trial 4 with value: 0.9999998950781238.\n",
            "[I 2023-06-13 21:51:26,822] Trial 8 finished with value: 0.998555323903329 and parameters: {'lambda': 4.724278961032818e-05, 'alpha': 3.000942404570447e-06, 'subsample': 0.7018045354119085, 'colsample_bytree': 0.252863564939506, 'max_depth': 3, 'min_child_weight': 11, 'eta': 0.0006448096174176214, 'gamma': 2.6539309091386063e-05, 'scale_pos_weight': 3, 'grow_policy': 'depthwise'}. Best is trial 4 with value: 0.9999998950781238.\n",
            "[I 2023-06-13 21:52:58,283] Trial 9 finished with value: 0.999999073793093 and parameters: {'lambda': 5.86987526441835e-07, 'alpha': 6.807990710930156e-08, 'subsample': 0.23543107749882256, 'colsample_bytree': 0.6415340663517157, 'max_depth': 4, 'min_child_weight': 12, 'eta': 0.055349064349808574, 'gamma': 8.675949262753725e-07, 'scale_pos_weight': 3, 'grow_policy': 'lossguide'}. Best is trial 4 with value: 0.9999998950781238.\n",
            "[I 2023-06-13 21:54:01,684] Trial 10 finished with value: 0.9999992601198733 and parameters: {'lambda': 0.35158883058089063, 'alpha': 0.08456239670353935, 'subsample': 0.5778901153854052, 'colsample_bytree': 0.9830109834818708, 'max_depth': 7, 'min_child_weight': 7, 'eta': 0.45604907141180917, 'gamma': 0.009108393727438447, 'scale_pos_weight': 1, 'grow_policy': 'depthwise'}. Best is trial 4 with value: 0.9999998950781238.\n",
            "[I 2023-06-13 21:55:36,324] Trial 11 finished with value: 0.9999998435216847 and parameters: {'lambda': 0.0023273289870635234, 'alpha': 3.1621239916714054e-06, 'subsample': 0.5231446342203638, 'colsample_bytree': 0.811653888557534, 'max_depth': 15, 'min_child_weight': 7, 'eta': 0.21621476421603844, 'gamma': 0.0007567943382418721, 'scale_pos_weight': 6, 'grow_policy': 'lossguide'}. Best is trial 4 with value: 0.9999998950781238.\n",
            "[I 2023-06-13 21:56:56,236] Trial 12 finished with value: 0.9999999692470363 and parameters: {'lambda': 0.007417303398294612, 'alpha': 1.4333911189489152e-06, 'subsample': 0.5566459649169777, 'colsample_bytree': 0.7427046355054696, 'max_depth': 15, 'min_child_weight': 7, 'eta': 0.7522195588367804, 'gamma': 0.000930612860662742, 'scale_pos_weight': 6, 'grow_policy': 'lossguide'}. Best is trial 12 with value: 0.9999999692470363.\n",
            "[I 2023-06-13 21:57:57,795] Trial 13 finished with value: 0.9999993379067813 and parameters: {'lambda': 0.15043866798744615, 'alpha': 1.0312510176744004e-08, 'subsample': 0.6746984528559992, 'colsample_bytree': 0.558863341275945, 'max_depth': 8, 'min_child_weight': 9, 'eta': 0.6398760786513945, 'gamma': 0.0012417157972990046, 'scale_pos_weight': 2, 'grow_policy': 'lossguide'}. Best is trial 12 with value: 0.9999999692470363.\n",
            "[I 2023-06-13 22:10:37,675] Trial 14 finished with value: 0.9999992402208967 and parameters: {'lambda': 0.019141725924208847, 'alpha': 9.805603341155415e-07, 'subsample': 0.8365694510050443, 'colsample_bytree': 0.7340601060282228, 'max_depth': 15, 'min_child_weight': 5, 'eta': 0.0345634768168397, 'gamma': 0.5622912838999791, 'scale_pos_weight': 4, 'grow_policy': 'lossguide'}. Best is trial 12 with value: 0.9999999692470363.\n",
            "[I 2023-06-13 22:11:51,412] Trial 15 finished with value: 0.9999992121814298 and parameters: {'lambda': 0.02489507342281254, 'alpha': 1.051054294769452e-05, 'subsample': 0.6195407995499532, 'colsample_bytree': 0.882969367817486, 'max_depth': 6, 'min_child_weight': 9, 'eta': 0.8893543286611556, 'gamma': 0.00033113382914800286, 'scale_pos_weight': 2, 'grow_policy': 'lossguide'}. Best is trial 12 with value: 0.9999999692470363.\n",
            "[I 2023-06-13 22:14:44,286] Trial 16 finished with value: 0.999999238411899 and parameters: {'lambda': 0.002268574176144404, 'alpha': 2.4571538235337816e-07, 'subsample': 0.7808904161414888, 'colsample_bytree': 0.7079360401781167, 'max_depth': 9, 'min_child_weight': 4, 'eta': 0.04754578333693427, 'gamma': 0.0043259959238345315, 'scale_pos_weight': 5, 'grow_policy': 'lossguide'}. Best is trial 12 with value: 0.9999999692470363.\n",
            "[I 2023-06-13 22:17:53,959] Trial 17 finished with value: 0.9999997589510345 and parameters: {'lambda': 0.4942668811489144, 'alpha': 1.5873845862657585e-05, 'subsample': 0.48568820272156676, 'colsample_bytree': 0.9893401336709763, 'max_depth': 14, 'min_child_weight': 8, 'eta': 1.3266287601486778e-05, 'gamma': 0.04251825893401667, 'scale_pos_weight': 4, 'grow_policy': 'lossguide'}. Best is trial 12 with value: 0.9999999692470363.\n",
            "[I 2023-06-13 22:21:12,558] Trial 18 finished with value: 0.9999983067779983 and parameters: {'lambda': 0.00031232585045214156, 'alpha': 5.288230802346414e-07, 'subsample': 0.5937874547427435, 'colsample_bytree': 0.4916435067375907, 'max_depth': 11, 'min_child_weight': 3, 'eta': 0.10848140446699303, 'gamma': 0.00016966897904522365, 'scale_pos_weight': 2, 'grow_policy': 'depthwise'}. Best is trial 12 with value: 0.9999999692470363.\n",
            "[I 2023-06-13 22:23:51,546] Trial 19 finished with value: 0.9999997937742433 and parameters: {'lambda': 0.03810633597595594, 'alpha': 1.0231420097966597e-08, 'subsample': 0.7910337789897568, 'colsample_bytree': 0.8873777912401819, 'max_depth': 6, 'min_child_weight': 6, 'eta': 0.008368956406446172, 'gamma': 0.0019019499958616085, 'scale_pos_weight': 6, 'grow_policy': 'lossguide'}. Best is trial 12 with value: 0.9999999692470363.\n",
            "[I 2023-06-13 22:25:33,629] Trial 20 finished with value: 0.9999998172912157 and parameters: {'lambda': 0.08479010388387273, 'alpha': 7.364158287366328e-08, 'subsample': 0.4478052799787276, 'colsample_bytree': 0.6870530561747341, 'max_depth': 10, 'min_child_weight': 8, 'eta': 0.14851606165858772, 'gamma': 0.00024374136306686594, 'scale_pos_weight': 1, 'grow_policy': 'lossguide'}. Best is trial 12 with value: 0.9999999692470363.\n",
            "[I 2023-06-13 22:26:42,960] Trial 21 finished with value: 0.999999971960533 and parameters: {'lambda': 0.00558827874919681, 'alpha': 1.3664893038296768e-06, 'subsample': 0.5524986931625766, 'colsample_bytree': 0.781755699113235, 'max_depth': 15, 'min_child_weight': 7, 'eta': 0.7279617483315558, 'gamma': 0.0008517072053750807, 'scale_pos_weight': 6, 'grow_policy': 'lossguide'}. Best is trial 21 with value: 0.999999971960533.\n",
            "[I 2023-06-13 22:27:38,845] Trial 22 finished with value: 0.9999999375895736 and parameters: {'lambda': 0.007948959708844176, 'alpha': 7.74883379872558e-07, 'subsample': 0.5413075845626361, 'colsample_bytree': 0.795864642970003, 'max_depth': 15, 'min_child_weight': 7, 'eta': 0.7701936379546479, 'gamma': 0.0016664243016771873, 'scale_pos_weight': 5, 'grow_policy': 'lossguide'}. Best is trial 21 with value: 0.999999971960533.\n",
            "[I 2023-06-13 22:31:30,554] Trial 23 finished with value: 0.9999999240220896 and parameters: {'lambda': 0.0003520590537852515, 'alpha': 1.8952974502958008e-06, 'subsample': 0.5337107059840829, 'colsample_bytree': 0.7238814349140916, 'max_depth': 15, 'min_child_weight': 5, 'eta': 0.02345092926366063, 'gamma': 0.003977551977134253, 'scale_pos_weight': 6, 'grow_policy': 'lossguide'}. Best is trial 21 with value: 0.999999971960533.\n",
            "[I 2023-06-13 22:34:49,082] Trial 24 finished with value: 0.9999998715611514 and parameters: {'lambda': 0.007478860136508647, 'alpha': 1.1647866908924894e-05, 'subsample': 0.5533481225113943, 'colsample_bytree': 0.873754391816075, 'max_depth': 13, 'min_child_weight': 6, 'eta': 0.15212626740929724, 'gamma': 0.00016110885252955582, 'scale_pos_weight': 5, 'grow_policy': 'lossguide'}. Best is trial 21 with value: 0.999999971960533.\n",
            "[I 2023-06-13 22:35:38,789] Trial 25 finished with value: 0.9999999882415139 and parameters: {'lambda': 0.75546331589554, 'alpha': 2.928128328878145e-07, 'subsample': 0.6363884227686616, 'colsample_bytree': 0.742498166658863, 'max_depth': 14, 'min_child_weight': 7, 'eta': 0.9948529450334163, 'gamma': 0.08160879049373607, 'scale_pos_weight': 6, 'grow_policy': 'lossguide'}. Best is trial 25 with value: 0.9999999882415139.\n",
            "[I 2023-06-13 22:38:20,890] Trial 26 finished with value: 0.9999998697521537 and parameters: {'lambda': 0.8494895685756951, 'alpha': 1.6720141000767777e-07, 'subsample': 0.6524988358786525, 'colsample_bytree': 0.67105555336526, 'max_depth': 14, 'min_child_weight': 9, 'eta': 0.13992518931385745, 'gamma': 0.0862619747550295, 'scale_pos_weight': 6, 'grow_policy': 'depthwise'}. Best is trial 25 with value: 0.9999999882415139.\n",
            "[I 2023-06-13 22:41:37,728] Trial 27 finished with value: 0.9999998462351816 and parameters: {'lambda': 0.12962726191934226, 'alpha': 4.826109528749906e-08, 'subsample': 0.6100271481060204, 'colsample_bytree': 0.7461511664173919, 'max_depth': 12, 'min_child_weight': 5, 'eta': 0.015207269440988583, 'gamma': 0.09906192770243047, 'scale_pos_weight': 6, 'grow_policy': 'lossguide'}. Best is trial 25 with value: 0.9999999882415139.\n",
            "[I 2023-06-13 22:43:21,076] Trial 28 finished with value: 0.9999999701515353 and parameters: {'lambda': 0.7187163844246418, 'alpha': 4.459399768867295e-06, 'subsample': 0.4762992738192049, 'colsample_bytree': 0.6119405333724152, 'max_depth': 14, 'min_child_weight': 4, 'eta': 0.2804404503120311, 'gamma': 0.8749820269127211, 'scale_pos_weight': 5, 'grow_policy': 'lossguide'}. Best is trial 25 with value: 0.9999999882415139.\n",
            "[I 2023-06-13 22:49:16,495] Trial 29 finished with value: 0.9999999927640086 and parameters: {'lambda': 0.9434209853441222, 'alpha': 5.8981104317209535e-06, 'subsample': 0.40789046164531456, 'colsample_bytree': 0.6164682031084696, 'max_depth': 12, 'min_child_weight': 2, 'eta': 0.04916706715170347, 'gamma': 0.7965300901207384, 'scale_pos_weight': 5, 'grow_policy': 'lossguide'}. Best is trial 29 with value: 0.9999999927640086.\n",
            "[I 2023-06-13 22:55:33,363] Trial 30 finished with value: 0.9999999927640086 and parameters: {'lambda': 0.969333004176384, 'alpha': 3.3103650144835054e-05, 'subsample': 0.4097064451478166, 'colsample_bytree': 0.5877948638573502, 'max_depth': 12, 'min_child_weight': 2, 'eta': 0.05307750215663422, 'gamma': 0.19223359495094033, 'scale_pos_weight': 5, 'grow_policy': 'lossguide'}. Best is trial 29 with value: 0.9999999927640086.\n",
            "[I 2023-06-13 23:00:27,340] Trial 31 finished with value: 0.9999999701515353 and parameters: {'lambda': 0.24915149269746487, 'alpha': 2.255521842083445e-05, 'subsample': 0.37281068496708697, 'colsample_bytree': 0.6262153905960139, 'max_depth': 12, 'min_child_weight': 2, 'eta': 0.06536384346821292, 'gamma': 0.24443118403073874, 'scale_pos_weight': 5, 'grow_policy': 'lossguide'}. Best is trial 29 with value: 0.9999999927640086.\n",
            "[I 2023-06-13 23:13:17,319] Trial 32 finished with value: 0.9999998308586996 and parameters: {'lambda': 0.826733941063488, 'alpha': 3.1023787595468726e-05, 'subsample': 0.39916669902697066, 'colsample_bytree': 0.5745288977749341, 'max_depth': 13, 'min_child_weight': 2, 'eta': 0.006068859603528231, 'gamma': 0.20530358776321447, 'scale_pos_weight': 6, 'grow_policy': 'lossguide'}. Best is trial 29 with value: 0.9999999927640086.\n",
            "[I 2023-06-13 23:30:17,766] Trial 33 finished with value: 0.999999677093881 and parameters: {'lambda': 0.07831634384840659, 'alpha': 5.620969939771484e-06, 'subsample': 0.2838551447595767, 'colsample_bytree': 0.4876450224624708, 'max_depth': 11, 'min_child_weight': 0, 'eta': 0.027877662016989112, 'gamma': 0.02768020522641298, 'scale_pos_weight': 4, 'grow_policy': 'lossguide'}. Best is trial 29 with value: 0.9999999927640086.\n",
            "[I 2023-06-13 23:33:24,873] Trial 34 finished with value: 0.9999999710560342 and parameters: {'lambda': 0.22233403686215789, 'alpha': 4.14482809398852e-05, 'subsample': 0.43123347267677004, 'colsample_bytree': 0.6701047430836597, 'max_depth': 12, 'min_child_weight': 2, 'eta': 0.18770961669188438, 'gamma': 0.35769337848659255, 'scale_pos_weight': 5, 'grow_policy': 'lossguide'}. Best is trial 29 with value: 0.9999999927640086.\n",
            "[I 2023-06-13 23:37:43,328] Trial 35 finished with value: 0.9999997937742433 and parameters: {'lambda': 0.07155200177969685, 'alpha': 1.6131133662655102e-06, 'subsample': 0.3088595968491878, 'colsample_bytree': 0.8314330738762057, 'max_depth': 13, 'min_child_weight': 1, 'eta': 0.002133290736085934, 'gamma': 0.9743927095167301, 'scale_pos_weight': 6, 'grow_policy': 'lossguide'}. Best is trial 29 with value: 0.9999999927640086.\n",
            "[I 2023-06-13 23:39:21,784] Trial 36 finished with value: 0.9999999710560342 and parameters: {'lambda': 0.8863171947906596, 'alpha': 0.00022094383769966086, 'subsample': 0.4916571683474634, 'colsample_bytree': 0.6946681835815448, 'max_depth': 14, 'min_child_weight': 3, 'eta': 0.2937888707046862, 'gamma': 0.072350137756345, 'scale_pos_weight': 5, 'grow_policy': 'lossguide'}. Best is trial 29 with value: 0.9999999927640086.\n",
            "[I 2023-06-13 23:41:49,884] Trial 37 finished with value: 0.9999998860331345 and parameters: {'lambda': 0.25312857384268855, 'alpha': 3.435740393032451e-07, 'subsample': 0.41497915962141174, 'colsample_bytree': 0.611964915559153, 'max_depth': 11, 'min_child_weight': 4, 'eta': 0.069869408988813, 'gamma': 0.018186317885825573, 'scale_pos_weight': 5, 'grow_policy': 'depthwise'}. Best is trial 29 with value: 0.9999999927640086.\n",
            "[I 2023-06-13 23:43:59,829] Trial 38 finished with value: 0.9999998480441793 and parameters: {'lambda': 0.04834031003337113, 'alpha': 7.400992059222729e-06, 'subsample': 0.35947594737809346, 'colsample_bytree': 0.7604824193735773, 'max_depth': 9, 'min_child_weight': 1, 'eta': 0.0059443895507836925, 'gamma': 0.17887875889423674, 'scale_pos_weight': 4, 'grow_policy': 'lossguide'}. Best is trial 29 with value: 0.9999999927640086.\n",
            "[I 2023-06-14 00:01:59,527] Trial 39 finished with value: 0.9999997123693396 and parameters: {'lambda': 0.24412231741785972, 'alpha': 7.835069803754268e-07, 'subsample': 0.45093020069025147, 'colsample_bytree': 0.5162739230350888, 'max_depth': 13, 'min_child_weight': 1, 'eta': 0.019799526706243024, 'gamma': 0.4095485659686451, 'scale_pos_weight': 6, 'grow_policy': 'lossguide'}. Best is trial 29 with value: 0.9999999927640086.\n",
            "[I 2023-06-14 00:03:04,598] Trial 40 finished with value: 0.9999995631270157 and parameters: {'lambda': 0.1038223761533275, 'alpha': 3.5654815171456937e-06, 'subsample': 0.4098963620344101, 'colsample_bytree': 0.45929280931513, 'max_depth': 14, 'min_child_weight': 6, 'eta': 0.9155339651207146, 'gamma': 0.05324941330463498, 'scale_pos_weight': 5, 'grow_policy': 'depthwise'}. Best is trial 29 with value: 0.9999999927640086.\n",
            "[I 2023-06-14 00:05:22,114] Trial 41 finished with value: 0.9999999909550107 and parameters: {'lambda': 0.3440922137884503, 'alpha': 4.250254386586736e-05, 'subsample': 0.4353612217467193, 'colsample_bytree': 0.6615770691106203, 'max_depth': 12, 'min_child_weight': 2, 'eta': 0.28460617363929286, 'gamma': 0.24832925064908964, 'scale_pos_weight': 5, 'grow_policy': 'lossguide'}. Best is trial 29 with value: 0.9999999927640086.\n",
            "[I 2023-06-14 00:07:07,735] Trial 42 finished with value: 0.999999944825565 and parameters: {'lambda': 0.37954463617313944, 'alpha': 6.179010453352263e-05, 'subsample': 0.5083093861376392, 'colsample_bytree': 0.5820467989810959, 'max_depth': 12, 'min_child_weight': 3, 'eta': 0.3161954308333787, 'gamma': 0.16848953963041213, 'scale_pos_weight': 6, 'grow_policy': 'lossguide'}. Best is trial 29 with value: 0.9999999927640086.\n",
            "[I 2023-06-14 00:11:32,605] Trial 43 finished with value: 0.9999999891460127 and parameters: {'lambda': 0.9992309895454776, 'alpha': 6.17804323015062e-05, 'subsample': 0.3432786671897348, 'colsample_bytree': 0.6544260502858157, 'max_depth': 10, 'min_child_weight': 2, 'eta': 0.06124730763014879, 'gamma': 0.011550685192136869, 'scale_pos_weight': 4, 'grow_policy': 'lossguide'}. Best is trial 29 with value: 0.9999999927640086.\n",
            "[I 2023-06-14 00:16:52,877] Trial 44 finished with value: 0.9999999882415139 and parameters: {'lambda': 0.9165473858851492, 'alpha': 0.00018424556710320205, 'subsample': 0.3234295142713319, 'colsample_bytree': 0.6493496513193164, 'max_depth': 10, 'min_child_weight': 2, 'eta': 0.07943405498448042, 'gamma': 0.4609060866115964, 'scale_pos_weight': 4, 'grow_policy': 'lossguide'}. Best is trial 29 with value: 0.9999999927640086.\n",
            "[I 2023-06-14 00:20:11,239] Trial 45 finished with value: 0.9999945861216398 and parameters: {'lambda': 0.32664382628204314, 'alpha': 0.0003919210250370178, 'subsample': 0.37372143223386345, 'colsample_bytree': 0.6415013592496174, 'max_depth': 9, 'min_child_weight': 0, 'eta': 0.0009693690523641905, 'gamma': 0.013810825900774131, 'scale_pos_weight': 4, 'grow_policy': 'lossguide'}. Best is trial 29 with value: 0.9999999927640086.\n",
            "[I 2023-06-14 00:25:54,795] Trial 46 finished with value: 0.9999999620110447 and parameters: {'lambda': 0.1563644715407293, 'alpha': 8.577663029693491e-05, 'subsample': 0.23344808441927745, 'colsample_bytree': 0.6027680673482994, 'max_depth': 11, 'min_child_weight': 3, 'eta': 0.032246302946195335, 'gamma': 0.032518966821319675, 'scale_pos_weight': 3, 'grow_policy': 'lossguide'}. Best is trial 29 with value: 0.9999999927640086.\n",
            "[I 2023-06-14 00:27:31,686] Trial 47 finished with value: 0.9999995007165893 and parameters: {'lambda': 0.027945214187457188, 'alpha': 3.057878525863482e-05, 'subsample': 0.2825493107903553, 'colsample_bytree': 0.5472086067420306, 'max_depth': 11, 'min_child_weight': 1, 'eta': 0.34309828858553465, 'gamma': 0.10928084080209695, 'scale_pos_weight': 5, 'grow_policy': 'lossguide'}. Best is trial 29 with value: 0.9999999927640086.\n",
            "[I 2023-06-14 00:36:44,523] Trial 48 finished with value: 0.9999999249265887 and parameters: {'lambda': 0.37897472082388817, 'alpha': 0.0015301862026050501, 'subsample': 0.3392600354717611, 'colsample_bytree': 0.7119715110537955, 'max_depth': 8, 'min_child_weight': 2, 'eta': 0.008623338301335184, 'gamma': 0.04740004687787063, 'scale_pos_weight': 4, 'grow_policy': 'lossguide'}. Best is trial 29 with value: 0.9999999927640086.\n",
            "[I 2023-06-14 00:43:44,554] Trial 49 finished with value: 0.999999944825565 and parameters: {'lambda': 0.48067068834196364, 'alpha': 7.400084946573745e-05, 'subsample': 0.4473001520855391, 'colsample_bytree': 0.6661136235683506, 'max_depth': 10, 'min_child_weight': 4, 'eta': 0.06134181434034927, 'gamma': 0.3559692239866651, 'scale_pos_weight': 3, 'grow_policy': 'depthwise'}. Best is trial 29 with value: 0.9999999927640086.\n"
          ]
        },
        {
          "name": "stdout",
          "output_type": "stream",
          "text": [
            "Number of finished trials:  50\n",
            "Best trial:\n",
            "  Value: 0.9999999927640086\n",
            "  Params: \n",
            "    lambda: 0.9434209853441222\n",
            "    alpha: 5.8981104317209535e-06\n",
            "    subsample: 0.40789046164531456\n",
            "    colsample_bytree: 0.6164682031084696\n",
            "    max_depth: 12\n",
            "    min_child_weight: 2\n",
            "    eta: 0.04916706715170347\n",
            "    gamma: 0.7965300901207384\n",
            "    scale_pos_weight: 5\n",
            "    grow_policy: lossguide\n",
            "  Number of estimators: 484\n"
          ]
        }
      ],
      "source": [
        "SEED = 108\n",
        "N_FOLDS = 5\n",
        "\n",
        "\n",
        "def objective(trial):\n",
        "    dtrain = xgboost.DMatrix(X_train_scale_und, label=y_train_und)\n",
        "\n",
        "    param = {\n",
        "        \"verbosity\": 0,\n",
        "        \"objective\": \"binary:logistic\",\n",
        "        \"eval_metric\": \"auc\",\n",
        "        \"booster\": \"gbtree\",\n",
        "        \"lambda\": trial.suggest_float(\"lambda\", 1e-8, 1.0, log=True),\n",
        "        \"alpha\": trial.suggest_float(\"alpha\", 1e-8, 1.0, log=True),\n",
        "        # sampling ratio for training data.\n",
        "        \"subsample\": trial.suggest_float(\"subsample\", 0.2, 1.0),\n",
        "        # sampling according to each tree.\n",
        "        \"colsample_bytree\": trial.suggest_float(\"colsample_bytree\", 0.2, 1.0),\n",
        "        \"max_depth\": trial.suggest_int(\"max_depth\", 1, 15),\n",
        "        \"min_child_weight\": trial.suggest_int(\"min_child_weight\", 0, 12),\n",
        "        \"eta\": trial.suggest_float(\"eta\", 1e-8, 1.0, log=True),\n",
        "        \"gamma\": trial.suggest_float(\"gamma\", 1e-8, 1.0, log=True),\n",
        "        \"scale_pos_weight\": trial.suggest_int(\"scale_pos_weight\", 1, 6),\n",
        "        \"grow_policy\": trial.suggest_categorical(\"grow_policy\", [\"depthwise\", \"lossguide\"])\n",
        "    }\n",
        "\n",
        "    xgb_cv_results = xgboost.cv(\n",
        "        params=param,\n",
        "        dtrain=dtrain,\n",
        "        num_boost_round=10000,\n",
        "        nfold=N_FOLDS,\n",
        "        stratified=True,\n",
        "        early_stopping_rounds=100,\n",
        "        seed=SEED,\n",
        "        verbose_eval=False,\n",
        "    )\n",
        "\n",
        "    # Set n_estimators as a trial attribute; Accessible via study.trials_dataframe().\n",
        "    trial.set_user_attr(\"n_estimators\", len(xgb_cv_results))\n",
        "\n",
        "\n",
        "    # Extract the best score.\n",
        "    best_score = xgb_cv_results[\"test-auc-mean\"].values[-1]\n",
        "    return best_score\n",
        "\n",
        "\n",
        "study = optuna.create_study(direction=\"maximize\")\n",
        "study.optimize(objective, n_trials=50)\n",
        "\n",
        "print(\"Number of finished trials: \", len(study.trials))\n",
        "print(\"Best trial:\")\n",
        "trial = study.best_trial\n",
        "\n",
        "print(\"  Value: {}\".format(trial.value))\n",
        "print(\"  Params: \")\n",
        "for key, value in trial.params.items():\n",
        "    print(\"    {}: {}\".format(key, value))\n",
        "\n",
        "print(\"  Number of estimators: {}\".format(trial.user_attrs[\"n_estimators\"]))\n"
      ]
    },
    {
      "cell_type": "code",
      "execution_count": null,
      "metadata": {
        "id": "LrW2JqNGpNFi"
      },
      "outputs": [],
      "source": [
        "best_params = {\n",
        "    \"lambda\":  0.9434209853441222,\n",
        "    \"alpha\": 5.8981104317209535e-06,\n",
        "    \"subsample\": 0.40789046164531456,\n",
        "    \"colsample_bytree\": 0.6164682031084696,\n",
        "    \"max_depth\": 12,\n",
        "    \"min_child_weight\": 2,\n",
        "    \"eta\": 0.04916706715170347,\n",
        "    \"gamma\": 0.7965300901207384,\n",
        "    \"scale_pos_weight\": 5,\n",
        "    \"grow_policy\": \"lossguide\",\n",
        "    \"n_estimators\": 484\n",
        "}"
      ]
    },
    {
      "cell_type": "code",
      "execution_count": null,
      "metadata": {
        "colab": {
          "base_uri": "https://localhost:8080/"
        },
        "id": "grLP33dwpWv-",
        "outputId": "efc47b3c-9a70-4711-ee3d-273379e3cb9f"
      },
      "outputs": [
        {
          "name": "stderr",
          "output_type": "stream",
          "text": [
            "/usr/local/lib/python3.10/dist-packages/xgboost/sklearn.py:1395: UserWarning: `use_label_encoder` is deprecated in 1.7.0.\n",
            "  warnings.warn(\"`use_label_encoder` is deprecated in 1.7.0.\")\n"
          ]
        },
        {
          "name": "stdout",
          "output_type": "stream",
          "text": [
            "              precision    recall  f1-score   support\n",
            "\n",
            "         0.0       1.00      1.00      1.00    136947\n",
            "         1.0       0.98      0.96      0.97     13053\n",
            "\n",
            "    accuracy                           1.00    150000\n",
            "   macro avg       0.99      0.98      0.98    150000\n",
            "weighted avg       1.00      1.00      1.00    150000\n",
            "\n",
            "[[136713    234]\n",
            " [   496  12557]]\n",
            "Accuracy = 1.00\n",
            "F1 Score = 0.97\n",
            "Log Loss = 0.18\n"
          ]
        }
      ],
      "source": [
        "finalxgb = xgboost.XGBClassifier(use_label_encoder=False,eval_metric=\"auc\",seed=0,**best_params)\n",
        "finalxgb.fit(X_train_scale_und, y_train_und)\n",
        "\n",
        "# Generate predictions\n",
        "y_pred_xgb = finalxgb.predict(X_test_scale)\n",
        "\n",
        "print(classification_report(y_test, y_pred_xgb))\n",
        "print(confusion_matrix(y_test, y_pred_xgb))\n",
        "print(\"Accuracy = {:.2f}\".format(accuracy_score(y_test, y_pred_xgb)))\n",
        "print(\"F1 Score = {:.2f}\".format(f1_score(y_test, y_pred_xgb)))\n",
        "print(\"Log Loss = {:.2f}\".format(log_loss(y_test, y_pred_xgb)))"
      ]
    }
  ],
  "metadata": {
    "colab": {
      "provenance": []
    },
    "kernelspec": {
      "display_name": "Python 3",
      "name": "python3"
    },
    "language_info": {
      "name": "python"
    }
  },
  "nbformat": 4,
  "nbformat_minor": 0
}